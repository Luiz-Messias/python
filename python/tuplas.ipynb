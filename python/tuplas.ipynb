{
 "cells": [
  {
   "cell_type": "code",
   "execution_count": 2,
   "metadata": {},
   "outputs": [
    {
     "name": "stdout",
     "output_type": "stream",
     "text": [
      "sexta-feira\n",
      "janeiro\n"
     ]
    }
   ],
   "source": [
    "diasdasmana = ('segunda-feira', 'teça-feira', 'quarta-feira', 'quinta-feira', 'sexta-feira')\n",
    "escolha = int(input('Escolha o numero de 1 a 7 para o dia da semana: '))\n",
    "print(diasdasmana[escolha])\n",
    "mesnome = ('', 'janeiro', 'fevereiro', 'março', 'abril', 'maio', 'junho', 'julho', 'agosto', 'setembro', 'outubro', 'novembro', 'dezembro')\n",
    "escolha = int(input('escolha um numero de 1 a 12 para o mes: '))\n",
    "print(mesnome[escolha])"
   ]
  },
  {
   "cell_type": "markdown",
   "metadata": {},
   "source": []
  }
 ],
 "metadata": {
  "interpreter": {
   "hash": "41a02da8ee3b307d30426c8eae37777589b9f4763519b42cf5f6669809847375"
  },
  "kernelspec": {
   "display_name": "Python 3.10.8 64-bit",
   "language": "python",
   "name": "python3"
  },
  "language_info": {
   "codemirror_mode": {
    "name": "ipython",
    "version": 3
   },
   "file_extension": ".py",
   "mimetype": "text/x-python",
   "name": "python",
   "nbconvert_exporter": "python",
   "pygments_lexer": "ipython3",
   "version": "3.11.0"
  },
  "orig_nbformat": 4
 },
 "nbformat": 4,
 "nbformat_minor": 2
}
