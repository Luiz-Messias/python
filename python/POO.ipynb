{
 "cells": [
  {
   "cell_type": "markdown",
   "metadata": {},
   "source": [
    "programação orientada a objeto (Classes)"
   ]
  },
  {
   "cell_type": "code",
   "execution_count": null,
   "metadata": {},
   "outputs": [],
   "source": [
    "class Nome:\n",
    "    atributos\n",
    "    metodos\n",
    "    (objetos)\n",
    "#todo nome de classe começa com letra maiuscula"
   ]
  },
  {
   "cell_type": "code",
   "execution_count": null,
   "metadata": {},
   "outputs": [],
   "source": [
    "class Pessoa:\n",
    "    pass\n",
    "\n",
    "#pass comando que diz para ignorar essa linha e ir para a proxima"
   ]
  },
  {
   "cell_type": "code",
   "execution_count": 5,
   "metadata": {},
   "outputs": [
    {
     "name": "stdout",
     "output_type": "stream",
     "text": [
      "Luiz 18\n"
     ]
    }
   ],
   "source": [
    "class Pessoa:\n",
    "    pass\n",
    "\n",
    "pessoa1 = Pessoa()\n",
    "#variavel pessoa1 instancia (constroi) a classe Pessoa, incorporando sua estrutura\n",
    "\n",
    "pessoa1.nome ='Luiz'\n",
    "pessoa1.idade = 18\n",
    "\n",
    "print(pessoa1.nome, pessoa1.idade)\n"
   ]
  },
  {
   "cell_type": "code",
   "execution_count": 6,
   "metadata": {},
   "outputs": [
    {
     "name": "stdout",
     "output_type": "stream",
     "text": [
      "acao 1 sendo executado...\n"
     ]
    }
   ],
   "source": [
    "class Pessoa:\n",
    "    def acao1(self):\n",
    "        #cria um metodo de classe ação1() que realiza uma ação e retorna algum dado ou valor dentro da classe via self\n",
    "        #self referencia a propria classe\n",
    "        print('acao 1 sendo executado...')\n",
    "\n",
    "pessoa1 = Pessoa()\n",
    "pessoa1.acao1()"
   ]
  },
  {
   "cell_type": "code",
   "execution_count": null,
   "metadata": {},
   "outputs": [],
   "source": [
    "class Pessoa:\n",
    "    def __init___(self, nome, idade, genero, altura):\n",
    "#metodo construtor, cria objetos e atributos\n",
    "        self.nome = nome\n",
    "        self.idade = idade\n",
    "        self.genero = genero\n",
    "        self.altura = altura\n",
    "\n",
    "pessoa1 = Pessoa('Luiz', 18, 'Masc', 1.75)\n",
    "pessoa2 = Pessoa('Maria', 28, 'Fem', 1.59)\n",
    "\n",
    "print(pessoa1.nome, pessoa1.idade)\n",
    "print(pessoa2.nome, pessoa2.idade)"
   ]
  },
  {
   "cell_type": "code",
   "execution_count": 19,
   "metadata": {},
   "outputs": [
    {
     "ename": "TypeError",
     "evalue": "Pessoa() takes no arguments",
     "output_type": "error",
     "traceback": [
      "\u001b[1;31m---------------------------------------------------------------------------\u001b[0m",
      "\u001b[1;31mTypeError\u001b[0m                                 Traceback (most recent call last)",
      "Cell \u001b[1;32mIn [19], line 12\u001b[0m\n\u001b[0;32m      9\u001b[0m         ano_nasc \u001b[38;5;241m=\u001b[39m \u001b[38;5;28mself\u001b[39m\u001b[38;5;241m.\u001b[39mano_atual \u001b[38;5;241m-\u001b[39m \u001b[38;5;28mself\u001b[39m\u001b[38;5;241m.\u001b[39midade\n\u001b[0;32m     10\u001b[0m         \u001b[38;5;28mprint\u001b[39m(\u001b[38;5;124mf\u001b[39m\u001b[38;5;124m'\u001b[39m\u001b[38;5;124mSeu ano de nascimento é \u001b[39m\u001b[38;5;132;01m{\u001b[39;00mano_nasc\u001b[38;5;132;01m}\u001b[39;00m\u001b[38;5;124m'\u001b[39m)\n\u001b[1;32m---> 12\u001b[0m pessoa1 \u001b[38;5;241m=\u001b[39m \u001b[43mPessoa\u001b[49m\u001b[43m(\u001b[49m\u001b[38;5;124;43m'\u001b[39;49m\u001b[38;5;124;43mLuiz\u001b[39;49m\u001b[38;5;124;43m'\u001b[39;49m\u001b[43m,\u001b[49m\u001b[43m \u001b[49m\u001b[38;5;241;43m18\u001b[39;49m\u001b[43m)\u001b[49m\n\u001b[0;32m     13\u001b[0m pessoa1\u001b[38;5;241m.\u001b[39mano_nascimento()\n",
      "\u001b[1;31mTypeError\u001b[0m: Pessoa() takes no arguments"
     ]
    }
   ],
   "source": [
    "class Pessoa:\n",
    "    ano_atual = 2022\n",
    "\n",
    "    def ___init___(self, nome, idade):\n",
    "        self.nome = nome\n",
    "        self.idade = idade \n",
    "    \n",
    "    def ano_nascimento(self):\n",
    "        ano_nasc = self.ano_atual - self.idade\n",
    "        print(f'Seu ano de nascimento é {ano_nasc}')\n",
    "\n",
    "pessoa1 = Pessoa('Luiz', 18)\n",
    "pessoa1.ano_nascimento()"
   ]
  }
 ],
 "metadata": {
  "interpreter": {
   "hash": "93953f567ffcbc439ad9646d41ba4bdc4f8f37f9173f22525cca3b8577b44330"
  },
  "kernelspec": {
   "display_name": "Python 3.11.0 64-bit",
   "language": "python",
   "name": "python3"
  },
  "language_info": {
   "codemirror_mode": {
    "name": "ipython",
    "version": 3
   },
   "file_extension": ".py",
   "mimetype": "text/x-python",
   "name": "python",
   "nbconvert_exporter": "python",
   "pygments_lexer": "ipython3",
   "version": "3.11.0"
  },
  "orig_nbformat": 4
 },
 "nbformat": 4,
 "nbformat_minor": 2
}
