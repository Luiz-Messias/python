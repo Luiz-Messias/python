{
 "cells": [
  {
   "cell_type": "code",
   "execution_count": null,
   "metadata": {},
   "outputs": [],
   "source": [
    "estrutura de repetição "
   ]
  },
  {
   "cell_type": "code",
   "execution_count": 3,
   "metadata": {},
   "outputs": [
    {
     "name": "stdout",
     "output_type": "stream",
     "text": [
      "1\n",
      "2\n",
      "3\n",
      "4\n",
      "5\n",
      "6\n",
      "7\n",
      "8\n",
      "9\n",
      "10\n"
     ]
    }
   ],
   "source": [
    "#enquanto determinada condição for verdadeira executa o codigo e o proceso se repete\n",
    "x = 0\n",
    "while x <=10:\n",
    "    print(x)\n",
    "    x += 1\n",
    "    #x = x + 1"
   ]
  },
  {
   "cell_type": "markdown",
   "metadata": {},
   "source": [
    "programa que receba um numero e mostre o calculo da tabuada"
   ]
  },
  {
   "cell_type": "code",
   "execution_count": 16,
   "metadata": {},
   "outputs": [
    {
     "name": "stdout",
     "output_type": "stream",
     "text": [
      "**********************TABUADA SIMPLES***********************\n",
      "10 * 1 = 10\n",
      "10 * 2 = 20\n",
      "10 * 3 = 30\n",
      "10 * 4 = 40\n",
      "10 * 5 = 50\n",
      "10 * 6 = 60\n",
      "10 * 7 = 70\n",
      "10 * 8 = 80\n",
      "10 * 9 = 90\n",
      "10 * 10 = 100\n"
     ]
    }
   ],
   "source": [
    "from os import system\n",
    "system('cls')\n",
    "\n",
    "titulo = 'TABUADA SIMPLES'\n",
    "print(titulo.center(60,'*'))\n",
    "\n",
    "mult = int(input('\\nInforme o multilplicador: '))\n",
    "\n",
    "x = 1\n",
    "while x <= 10:\n",
    "    print(f'{mult} * {x} = {mult * x}')\n",
    "    x += 1"
   ]
  },
  {
   "cell_type": "code",
   "execution_count": 18,
   "metadata": {},
   "outputs": [
    {
     "name": "stdout",
     "output_type": "stream",
     "text": [
      "0\n",
      "1\n",
      "2\n",
      "3\n",
      "4\n",
      "50% concluido\n",
      "5\n",
      "6\n",
      "7\n",
      "8\n",
      "9\n",
      "100% processo encerrado\n",
      "10\n"
     ]
    }
   ],
   "source": [
    "num = 0 \n",
    "total = 10 \n",
    "while num <= total:\n",
    "    print(num)\n",
    "    num += 1\n",
    "    if num == 5:\n",
    "        print(f'50% concluido')\n",
    "    if num == 10:\n",
    "        print(f'100% processo encerrado')"
   ]
  },
  {
   "cell_type": "markdown",
   "metadata": {},
   "source": [
    "jogo da advinhação "
   ]
  },
  {
   "cell_type": "code",
   "execution_count": 27,
   "metadata": {},
   "outputs": [
    {
     "name": "stdout",
     "output_type": "stream",
     "text": [
      "*********************JOGO DA ADVINHAÇÃO*********************\n",
      "é maior, tente denovo\n",
      "é maior, tente denovo\n",
      "é maior, tente denovo\n",
      "é maior, tente denovo\n",
      "UHUUULL VC ACERTOU - 10\n"
     ]
    }
   ],
   "source": [
    "import random\n",
    "from os import system\n",
    "system('cls')\n",
    "\n",
    "titulo = 'JOGO DA ADVINHAÇÃO'\n",
    "print(titulo.center(60, '*'))\n",
    "\n",
    "num = random.randint(1,10)\n",
    "\n",
    "tentativa =int(input('advinhe o numero de 1 a 10: (0 para sair)'))\n",
    "while tentativa  > 0:\n",
    "    if tentativa > num:\n",
    "        print('é menor, tente denovo')\n",
    "    elif tentativa < num:\n",
    "        print('é maior, tente denovo')\n",
    "    else:\n",
    "        print(f'UHUUULL VC ACERTOU - {num}')\n",
    "        break\n",
    "    tentativa =int(input('advinhe o numero de 1 a 10: (0 para sair)'))"
   ]
  },
  {
   "cell_type": "markdown",
   "metadata": {},
   "source": [
    "numero primo"
   ]
  },
  {
   "cell_type": "code",
   "execution_count": 53,
   "metadata": {},
   "outputs": [
    {
     "name": "stdout",
     "output_type": "stream",
     "text": [
      "****************VERIFICADOR DE NUMERO PRIMO*****************\n",
      "\t\t\n",
      "informe numero maior ou igual a 2\n",
      "\t\t\n",
      "o numero é primo\n"
     ]
    }
   ],
   "source": [
    "from os import system\n",
    "system('cls')\n",
    "titulo = 'VERIFICADOR DE NUMERO PRIMO'\n",
    "print(titulo.center(60,'*'))\n",
    "\n",
    "while True:\n",
    "    num = int(input('Digite um numero inteiro: '))\n",
    "    if num >= 2:\n",
    "        break\n",
    "    else:\n",
    "        print(f'\\t\\t\\ninforme numero maior ou igual a 2')\n",
    "resultado = '\\t\\t\\no numero é primo'\n",
    "i = 2\n",
    "while i < num:\n",
    "    resto = num % i\n",
    "    if resto == 0:\n",
    "        resultado = '\\t\\t\\nO numero não é primo'\n",
    "        break\n",
    "    i += 1\n",
    "print(resultado)\n"
   ]
  }
 ],
 "metadata": {
  "interpreter": {
   "hash": "93953f567ffcbc439ad9646d41ba4bdc4f8f37f9173f22525cca3b8577b44330"
  },
  "kernelspec": {
   "display_name": "Python 3.11.0 64-bit",
   "language": "python",
   "name": "python3"
  },
  "language_info": {
   "codemirror_mode": {
    "name": "ipython",
    "version": 3
   },
   "file_extension": ".py",
   "mimetype": "text/x-python",
   "name": "python",
   "nbconvert_exporter": "python",
   "pygments_lexer": "ipython3",
   "version": "3.11.0"
  },
  "orig_nbformat": 4
 },
 "nbformat": 4,
 "nbformat_minor": 2
}
