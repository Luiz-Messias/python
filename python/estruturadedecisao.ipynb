{
 "cells": [
  {
   "cell_type": "markdown",
   "metadata": {},
   "source": [
    "programa para ler 3 notas bimestrais de um aluno, e calcular a media e apresentar a mensagem:\n",
    "'aprovado' se a media for maior ou igual a 7.\n",
    "'reprovado' se a media for menor que 7.\n",
    "'aprovado com distinção' se a media for igual a 10."
   ]
  },
  {
   "cell_type": "code",
   "execution_count": 2,
   "metadata": {},
   "outputs": [
    {
     "name": "stdout",
     "output_type": "stream",
     "text": [
      "Aprovado\n"
     ]
    }
   ],
   "source": [
    "nota1 = float(input('informe a nota do aluno: '))\n",
    "nota2 = float(input('informe a nota do aluno: '))\n",
    "nota3 = float(input('informe a nota do aluno: '))\n",
    "\n",
    "media = (nota1 + nota2 + nota3)/3\n",
    "\n",
    "if media < 7:\n",
    "    print('reprovado')\n",
    "elif media >= 7 and media < 10:\n",
    "    print('Aprovado')\n",
    "else:\n",
    "    print('Aprovado com distinção')"
   ]
  },
  {
   "cell_type": "markdown",
   "metadata": {},
   "source": [
    "conversor de medidas, faça um programa que receba uma medida em centimetros e o usuario escolha a medida de conversão, o programa faz o calculo \n",
    "e exibe a medida convertida\n"
   ]
  },
  {
   "cell_type": "code",
   "execution_count": 22,
   "metadata": {},
   "outputs": [
    {
     "name": "stdout",
     "output_type": "stream",
     "text": [
      "***************************** CONVERSOR DE MEDIDAS *****************************\n"
     ]
    },
    {
     "ename": "ValueError",
     "evalue": "could not convert string to float: ''",
     "output_type": "error",
     "traceback": [
      "\u001b[1;31m---------------------------------------------------------------------------\u001b[0m",
      "\u001b[1;31mValueError\u001b[0m                                Traceback (most recent call last)",
      "Cell \u001b[1;32mIn [22], line 6\u001b[0m\n\u001b[0;32m      4\u001b[0m titulo \u001b[38;5;241m=\u001b[39m \u001b[38;5;124m'\u001b[39m\u001b[38;5;124m CONVERSOR DE MEDIDAS \u001b[39m\u001b[38;5;124m'\u001b[39m\n\u001b[0;32m      5\u001b[0m \u001b[38;5;28mprint\u001b[39m(titulo\u001b[38;5;241m.\u001b[39mcenter(\u001b[38;5;241m80\u001b[39m, \u001b[38;5;124m'\u001b[39m\u001b[38;5;124m*\u001b[39m\u001b[38;5;124m'\u001b[39m))\n\u001b[1;32m----> 6\u001b[0m medida \u001b[38;5;241m=\u001b[39m \u001b[38;5;28;43mfloat\u001b[39;49m\u001b[43m(\u001b[49m\u001b[38;5;28;43minput\u001b[39;49m\u001b[43m(\u001b[49m\u001b[38;5;124;43m'\u001b[39;49m\u001b[38;5;124;43mInforme a medida em centimetros: \u001b[39;49m\u001b[38;5;124;43m'\u001b[39;49m\u001b[43m)\u001b[49m\u001b[43m)\u001b[49m\n\u001b[0;32m      8\u001b[0m \u001b[38;5;28mprint\u001b[39m(\u001b[38;5;124m'\u001b[39m\u001b[38;5;130;01m\\n\u001b[39;00m\u001b[38;5;124mEscolha para que unidade de medida deseja converter\u001b[39m\u001b[38;5;124m'\u001b[39m)\n\u001b[0;32m      9\u001b[0m \u001b[38;5;28mprint\u001b[39m(\u001b[38;5;124m'\u001b[39m\u001b[38;5;124m1 - polegada\u001b[39m\u001b[38;5;130;01m\\n\u001b[39;00m\u001b[38;5;124m2 - Pé\u001b[39m\u001b[38;5;130;01m\\n\u001b[39;00m\u001b[38;5;124m3 - jarda\u001b[39m\u001b[38;5;124m'\u001b[39m)\n",
      "\u001b[1;31mValueError\u001b[0m: could not convert string to float: ''"
     ]
    }
   ],
   "source": [
    "from os import system\n",
    "system('cls')\n",
    "\n",
    "titulo = ' CONVERSOR DE MEDIDAS '\n",
    "print(titulo.center(80, '*'))\n",
    "medida = float(input('Informe a medida em centimetros: '))\n",
    "\n",
    "print('\\nEscolha para que unidade de medida deseja converter')\n",
    "print('1 - polegada\\n2 - Pé\\n3 - jarda')\n",
    "\n",
    "menu = input('opção: ')\n",
    "\n",
    "valorpolegada = 2.54\n",
    "valorpe = 30.48\n",
    "valorjardas = 91.94\n",
    "\n",
    "if menu == '1':\n",
    "    polegada = medida / valorpolegada\n",
    "    resultado = str(f'{medida:.4f} centimetros correspodem a {polegada:.4f} polegadas')\n",
    "elif menu == '2':\n",
    "    pes = medida / valorpe\n",
    "    resultado = str(f'{medida:.4f} centimetros correspondem a {pes:.4f} pes')\n",
    "elif menu == '3':\n",
    "    jarda = media / valorjardas\n",
    "    resultado = str(f'{medida:.4f} centimetros correpondem a {jarda:.4f} jarda')\n",
    "else:\n",
    "    resultado = str(f'voce nao escolheu uma das opçoes validas')"
   ]
  }
 ],
 "metadata": {
  "interpreter": {
   "hash": "4eaf8991dc1898de1220652364fb14b6218ca25763bdf49d09b309cf2061092a"
  },
  "kernelspec": {
   "display_name": "Python 3.10.8 64-bit (windows store)",
   "language": "python",
   "name": "python3"
  },
  "language_info": {
   "codemirror_mode": {
    "name": "ipython",
    "version": 3
   },
   "file_extension": ".py",
   "mimetype": "text/x-python",
   "name": "python",
   "nbconvert_exporter": "python",
   "pygments_lexer": "ipython3",
   "version": "3.11.0"
  },
  "orig_nbformat": 4
 },
 "nbformat": 4,
 "nbformat_minor": 2
}
