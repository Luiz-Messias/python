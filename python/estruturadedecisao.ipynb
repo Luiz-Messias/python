{
 "cells": [
  {
   "cell_type": "markdown",
   "metadata": {},
   "source": [
    "programa para ler 3 notas bimestrais de um aluno, e calcular a media e apresentar a mensagem:\n",
    "'aprovado' se a media for maior ou igual a 7.\n",
    "'reprovado' se a media for menor que 7.\n",
    "'aprovado com distinção' se a media for igual a 10."
   ]
  },
  {
   "cell_type": "code",
   "execution_count": 2,
   "metadata": {},
   "outputs": [
    {
     "name": "stdout",
     "output_type": "stream",
     "text": [
      "Aprovado\n"
     ]
    }
   ],
   "source": [
    "nota1 = float(input('informe a nota do aluno: '))\n",
    "nota2 = float(input('informe a nota do aluno: '))\n",
    "nota3 = float(input('informe a nota do aluno: '))\n",
    "\n",
    "media = (nota1 + nota2 + nota3)/3\n",
    "\n",
    "if media < 7:\n",
    "    print('reprovado')\n",
    "elif media >= 7 and media < 10:\n",
    "    print('Aprovado')\n",
    "else:\n",
    "    print('Aprovado com distinção')"
   ]
  },
  {
   "cell_type": "markdown",
   "metadata": {},
   "source": [
    "conversor de medidas, faça um programa que receba uma medida em centimetros e o usuario escolha a medida de conversão, o programa faz o calculo \n",
    "e exibe a medida convertida\n"
   ]
  },
  {
   "cell_type": "code",
   "execution_count": 28,
   "metadata": {},
   "outputs": [
    {
     "name": "stdout",
     "output_type": "stream",
     "text": [
      "***************************** CONVERSOR DE MEDIDAS *****************************\n",
      "\n",
      "Escolha para que unidade de medida deseja converter\n",
      "1 - polegada\n",
      "2 - Pé\n",
      "3 - jarda\n",
      "100.0000 centimetros correspodem a 39.3701 polegadas\n"
     ]
    }
   ],
   "source": [
    "from os import system\n",
    "system('cls')\n",
    "\n",
    "titulo = ' CONVERSOR DE MEDIDAS '\n",
    "print(titulo.center(80, '*'))\n",
    "medida = float(input('Informe a medida em centimetros: '))\n",
    "\n",
    "print('\\nEscolha para que unidade de medida deseja converter')\n",
    "print('1 - polegada\\n2 - Pé\\n3 - jarda')\n",
    "\n",
    "menu = input('opção: ')\n",
    "\n",
    "valorpolegada = 2.54\n",
    "valorpe = 30.48\n",
    "valorjardas = 91.94\n",
    "\n",
    "if menu == '1':\n",
    "    polegada = medida / valorpolegada\n",
    "    resultado = str(f'{medida:.4f} centimetros correspodem a {polegada:.4f} polegadas')\n",
    "elif menu == '2':\n",
    "    pes = medida / valorpe\n",
    "    resultado = str(f'{medida:.4f} centimetros correspondem a {pes:.4f} pes')\n",
    "elif menu == '3':\n",
    "    jarda = media / valorjardas\n",
    "    resultado = str(f'{medida:.4f} centimetros correpondem a {jarda:.4f} jarda')\n",
    "else:\n",
    "    resultado = str(f'voce nao escolheu uma das opçoes validas')\n",
    "print(resultado)"
   ]
  },
  {
   "cell_type": "markdown",
   "metadata": {},
   "source": [
    "programa que verifica se a letra digitada é vogal ou consoate "
   ]
  },
  {
   "cell_type": "code",
   "execution_count": 31,
   "metadata": {},
   "outputs": [
    {
     "name": "stdout",
     "output_type": "stream",
     "text": [
      "Voce digitou uma vogal\n"
     ]
    }
   ],
   "source": [
    "vogais = ['a', 'e', 'i', 'o', 'u']\n",
    "letra = input('digite uma letra: ')\n",
    "if letra.lower() in vogais:\n",
    "    print('Voce digitou uma vogal')\n",
    "else:\n",
    "    print('Voce digitou uma consoante')\n",
    "\n"
   ]
  },
  {
   "cell_type": "markdown",
   "metadata": {},
   "source": [
    "faça um programa que receba 3 numeros e mosrte-os em ordem decrescentes"
   ]
  },
  {
   "cell_type": "code",
   "execution_count": 68,
   "metadata": {},
   "outputs": [
    {
     "name": "stdout",
     "output_type": "stream",
     "text": [
      "**********EXIBIR OS NUMEROS EM ORDEM DECRESCENTES***********\n",
      "716\n",
      "630\n",
      "391\n"
     ]
    }
   ],
   "source": [
    "from os import system\n",
    "import random\n",
    "system('cls')\n",
    "\n",
    "titulo = 'EXIBIR OS NUMEROS EM ORDEM DECRESCENTES'\n",
    "print(titulo.center(60,'*'))\n",
    "\n",
    "num1 = random.randint(0, 1000)\n",
    "num2 = random.randint(0, 1000)\n",
    "num3 = random.randint(0, 1000)\n",
    "\n",
    "if num1 > num2 and num1 > num3:\n",
    "    maior = num1\n",
    "elif num2 > num3:\n",
    "    maior = num2\n",
    "else:\n",
    "    maior = num3\n",
    "\n",
    "if num1 < num2 and num1 > num3:\n",
    "    menor = num1\n",
    "elif num2 < num3:\n",
    "    menor = num2\n",
    "else:\n",
    "    menor = num3\n",
    "\n",
    "if num1 < num3 and num1 > num2 or num1 < num2 and num1 > num3:\n",
    "    meio = num1\n",
    "elif num2 < num1 and num2 > num3 or num2 < num3 and num2 > num1:\n",
    "    meio = num2\n",
    "\n",
    "print(f'{maior}\\n{meio}\\n{menor}')"
   ]
  },
  {
   "cell_type": "markdown",
   "metadata": {},
   "source": []
  }
 ],
 "metadata": {
  "interpreter": {
   "hash": "4eaf8991dc1898de1220652364fb14b6218ca25763bdf49d09b309cf2061092a"
  },
  "kernelspec": {
   "display_name": "Python 3.10.8 64-bit (windows store)",
   "language": "python",
   "name": "python3"
  },
  "language_info": {
   "codemirror_mode": {
    "name": "ipython",
    "version": 3
   },
   "file_extension": ".py",
   "mimetype": "text/x-python",
   "name": "python",
   "nbconvert_exporter": "python",
   "pygments_lexer": "ipython3",
   "version": "3.11.0"
  },
  "orig_nbformat": 4
 },
 "nbformat": 4,
 "nbformat_minor": 2
}
